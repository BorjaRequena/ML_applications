{
 "cells": [
  {
   "cell_type": "markdown",
   "metadata": {},
   "source": [
    "# Machine Learning application showcase\n",
    "\n",
    "> Illustration of various applications of machine learning in different fields."
   ]
  },
  {
   "cell_type": "markdown",
   "metadata": {},
   "source": [
    "In this notebook we showcase the main applications of machine learning to illustrate the capabilities of the field. It is mainly intended to provide examples for those who are not familiar with the field of machine learning or that are starting in it. \n",
    "\n",
    "The focus is mainly put on the application and the results without diving in the architecture details and parameters. We mainly use [fastai](https://docs.fast.ai/) to perform the demonstration and we encourage the reader to look at their [wonderful course](https://course.fast.ai/) and [book](https://www.amazon.com/Deep-Learning-Coders-fastai-PyTorch/dp/1492045527).\n",
    " \n",
    "The main topics addressed are:\n",
    "* Computer vision\n",
    "* Natural language processing\n",
    "* Tabular data"
   ]
  }
 ],
 "metadata": {
  "kernelspec": {
   "display_name": "Python 3",
   "language": "python",
   "name": "python3"
  }
 },
 "nbformat": 4,
 "nbformat_minor": 4
}
