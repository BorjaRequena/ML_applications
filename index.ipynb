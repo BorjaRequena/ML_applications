{
 "cells": [
  {
   "cell_type": "markdown",
   "metadata": {},
   "source": [
    "# Machine Learning application showcase\n",
    "\n",
    "> Illustration of various applications of machine learning in different fields."
   ]
  },
  {
   "cell_type": "markdown",
   "metadata": {},
   "source": [
    "The motivation behind this repository was teaching machine learning at the [MSc in Photonics (UPC)](https://photonics.masters.upc.edu/en).\n",
    "\n",
    "Here, we showcase some of the main applications of machine learning to illustrate the capabilities and state of the field. It is mainly intended to provide examples of things that can be done for those who are not familiar with machine learning or that are starting with it. Checkout [my blog](brequena.com) for a series of posts illustrating the content here presented.\n",
    "\n",
    "The focus is put on the application and the results without diving into the architecture details and parameters. We mainly use [fastai](https://docs.fast.ai/) to perform the demonstration and we encourage the reader to look at their [wonderful course](https://course.fast.ai/) and [book](https://www.amazon.com/Deep-Learning-Coders-fastai-PyTorch/dp/1492045527).\n",
    " \n",
    "The main topics addressed are:\n",
    "* [Computer vision](https://brequena.com/machine%20learning/fastai/computer%20vision/2020/11/14/ml-applications-cv.html)\n",
    "* [Natural language processing](https://brequena.com/machine%20learning/fastai/natural%20language%20processing/2020/11/15/ml-applications-nlp.html)\n",
    "* [Tabular data](https://brequena.com/machine%20learning/fastai/tabular%20data/2020/11/16/ml-applications-tab.html)\n",
    "\n",
    "This is a work in progress and, in the future, it will include further applications."
   ]
  }
 ],
 "metadata": {
  "kernelspec": {
   "display_name": "Python 3",
   "language": "python",
   "name": "python3"
  }
 },
 "nbformat": 4,
 "nbformat_minor": 4
}
